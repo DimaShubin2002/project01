{
  "nbformat": 4,
  "nbformat_minor": 0,
  "metadata": {
    "colab": {
      "provenance": []
    },
    "kernelspec": {
      "name": "python3",
      "display_name": "Python 3"
    },
    "language_info": {
      "name": "python"
    }
  },
  "cells": [
    {
      "cell_type": "code",
      "execution_count": null,
      "metadata": {
        "colab": {
          "base_uri": "https://localhost:8080/"
        },
        "id": "yG3rqsGkr-sv",
        "outputId": "292abd04-7332-4afc-86cf-c4df7182e160"
      },
      "outputs": [
        {
          "output_type": "stream",
          "name": "stdout",
          "text": [
            "Население Volgograd - 8673222 человек.\n",
            "Итоговый размер населений - 24647785\n"
          ]
        }
      ],
      "source": [
        "city = ['Moscow', 'Volgograd', 'Tula']\n",
        "population = [11440687, 8673222, 4533876]\n",
        "print('Население',city[1],'-',population[1],'человек.')\n",
        "print('Итоговый размер населений -',sum(population))"
      ]
    },
    {
      "cell_type": "code",
      "source": [
        "shop_list = ['Картофель', 'Горошек', 'Рис']\n",
        "shop_list.insert(2, 'рыба')\n",
        "print('update list:', shop_list)"
      ],
      "metadata": {
        "colab": {
          "base_uri": "https://localhost:8080/"
        },
        "id": "VNCDZcO1uZlo",
        "outputId": "c8a1b1b7-c581-49c8-8725-1b550917a9a9"
      },
      "execution_count": null,
      "outputs": [
        {
          "output_type": "stream",
          "name": "stdout",
          "text": [
            "update list: ['Картофель', 'Горошек', 'рыба', 'Рис']\n"
          ]
        }
      ]
    },
    {
      "cell_type": "code",
      "source": [
        "fruits = ['Яблоко', 'Апельсин', 'клубника']"
      ],
      "metadata": {
        "id": "JJ9vI4OmFYng"
      },
      "execution_count": null,
      "outputs": []
    },
    {
      "cell_type": "code",
      "source": [
        "food = ['Картофель', 'Горошек', 'рыба' , 'Рис']\n",
        "food.remove('Картофель')\n",
        "print('update list:', food)"
      ],
      "metadata": {
        "colab": {
          "base_uri": "https://localhost:8080/"
        },
        "outputId": "cc9ca488-ede9-42d9-c26c-833ab915976b",
        "id": "jL3E9Xy_Gxxd"
      },
      "execution_count": null,
      "outputs": [
        {
          "output_type": "stream",
          "name": "stdout",
          "text": [
            "update list: ['Горошек', 'рыба', 'Рис']\n"
          ]
        }
      ]
    }
  ]
}