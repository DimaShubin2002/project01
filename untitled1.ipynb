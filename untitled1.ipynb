{
  "nbformat": 4,
  "nbformat_minor": 0,
  "metadata": {
    "colab": {
      "provenance": []
    },
    "kernelspec": {
      "name": "python3",
      "display_name": "Python 3"
    },
    "language_info": {
      "name": "python"
    }
  },
  "cells": [
    {
      "cell_type": "code",
      "execution_count": null,
      "metadata": {
        "colab": {
          "base_uri": "https://localhost:8080/"
        },
        "id": "MP9GrTHJ8sRU",
        "outputId": "f430d514-ad30-4956-f3ce-5e7b98858948"
      },
      "outputs": [
        {
          "output_type": "stream",
          "name": "stdout",
          "text": [
            "Население Volgograd - 8673222 человек.\n",
            "Итоговый размер населений - 24647785\n"
          ]
        }
      ],
      "source": [
        "city = ['Moscow', 'Volgograd', 'Tula']\n",
        "population = [11440687, 8673222, 4533876]\n",
        "print('Население',city[1],'-',population[1],'человек.')\n",
        "print('Итоговый размер населений -',sum(population))\n"
      ]
    },
    {
      "cell_type": "code",
      "source": [
        "shop_list = ['Картофель', 'Горошек', 'Рис', 'Хлеб']\n",
        "fruits = ['Яблоко','Апельсин','Клубника']\n",
        "for i in range(len(shop_list)):\n",
        "   print(shop_list[i])\n",
        "\n",
        "shop_list.insert(2, 'Рыба')\n",
        "print(shop_list)\n",
        "shop_list = shop_list + fruits\n",
        "print(shop_list)\n",
        "shop_list.pop(0)\n",
        "print(shop_list)\n",
        "print ('Номер', shop_list[3], 'в списке -', shop_list.index('Хлеб'))\n",
        "print ('Номер', fruits[1], 'в списке -', shop_list.index('Апельсин'))\n"
      ],
      "metadata": {
        "colab": {
          "base_uri": "https://localhost:8080/"
        },
        "id": "YNw4XticCRu7",
        "outputId": "ede895cb-147f-4bfa-cb61-c99965021101"
      },
      "execution_count": null,
      "outputs": [
        {
          "output_type": "stream",
          "name": "stdout",
          "text": [
            "Картофель\n",
            "Горошек\n",
            "Рис\n",
            "Хлеб\n",
            "['Картофель', 'Горошек', 'Рыба', 'Рис', 'Хлеб']\n",
            "['Картофель', 'Горошек', 'Рыба', 'Рис', 'Хлеб', 'Яблоко', 'Апельсин', 'Клубника']\n",
            "['Горошек', 'Рыба', 'Рис', 'Хлеб', 'Яблоко', 'Апельсин', 'Клубника']\n",
            "Номер Хлеб в списке - 3\n",
            "Номер Апельсин в списке - 5\n"
          ]
        }
      ]
    },
    {
      "cell_type": "code",
      "source": [
        "my_favorite_songs = [['Waste a Moment',3.03],['New Salvation',4.02],['Staying'\\\n",
        "                        'Alive', 3.40],['Out of Touch',3.03],['A Sorta Fairytale',5.28]\\\n",
        "                     ,['Easy', 4.15], ['Beautiful Day', 4.04],['Nowhere to Run', 2.58],\\\n",
        "                     ['In This World',4.02],['Clocks', 5.07],['Maybe Tomorrow',4.32]\\\n",
        "                     , ['Music Sounds Better With You', 6.43], ['Believer', 3.24]\\\n",
        "                     , ['Start Me Up', 4.04]]\n",
        "\n",
        "time_tree = my_favorite_songs[0][1]+my_favorite_songs[1][1]+my_favorite_songs[2][1]\n",
        "print('Три песни звучат', time_tree, ' минут')\n",
        "                                                                     \n"
      ],
      "metadata": {
        "id": "46JqlhfKLDFc",
        "outputId": "c18fa10f-2da4-4ef3-ac5c-2f171670fcc6",
        "colab": {
          "base_uri": "https://localhost:8080/"
        }
      },
      "execution_count": null,
      "outputs": [
        {
          "output_type": "stream",
          "name": "stdout",
          "text": [
            "Три песни звучат 10.45  минут\n"
          ]
        }
      ]
    }
  ]
}