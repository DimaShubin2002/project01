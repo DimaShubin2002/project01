{
  "nbformat": 4,
  "nbformat_minor": 0,
  "metadata": {
    "colab": {
      "provenance": []
    },
    "kernelspec": {
      "name": "python3",
      "display_name": "Python 3"
    },
    "language_info": {
      "name": "python"
    }
  },
  "cells": [
    {
      "cell_type": "code",
      "execution_count": null,
      "metadata": {
        "colab": {
          "base_uri": "https://localhost:8080/"
        },
        "id": "2R7jDCz_7vO5",
        "outputId": "d2894a2c-f8a8-4701-9a3c-b365d155d084"
      },
      "outputs": [
        {
          "output_type": "stream",
          "name": "stdout",
          "text": [
            "Ноль в качестве знака операции будет завершать программу\n",
            "Знаки операций (+,-,,%):%\n",
            "x=1\n",
            "y=10\n",
            "10.00 %\n"
          ]
        }
      ],
      "source": [
        "print ('Ноль в качестве знака операции будет завершать программу')\n",
        "while True:\n",
        "  k = input(\"Знаки операций (+,-,,%):\")\n",
        "  if k == '0':\n",
        "    break\n",
        "  if k in ('+', '-', '', '/', '%'):\n",
        "    x = float(input(\"x=\"))\n",
        "    y = float(input(\"y=\"))\n",
        "    if k == '+':\n",
        "      print(\"%.2f\" % (x+y))\n",
        "    elif k == '-':\n",
        "      print(\"%.2f\" % (x-y))\n",
        "    elif k == '':\n",
        "      print(\"%.2f\" % (xy))\n",
        "    elif k == '/':\n",
        "      if y != 0:\n",
        "        print(\"%.2f\" % (x/y))\n",
        "      else:\n",
        "        print (\"Деление на 0 запрещено\")\n",
        "    elif k == '%':\n",
        "      if y != 0:\n",
        "        print(\"%.2f\" % ((x/y)*100), \"%\")\n",
        "      else:\n",
        "        print (\"Процент от 0 запрещен\")\n",
        "\n",
        "  else:\n",
        "    print (\"Не верный символ операции\")"
      ]
    }
  ]
}